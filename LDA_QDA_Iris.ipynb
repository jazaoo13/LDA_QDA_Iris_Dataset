{
  "nbformat": 4,
  "nbformat_minor": 0,
  "metadata": {
    "colab": {
      "provenance": []
    },
    "kernelspec": {
      "name": "python3",
      "display_name": "Python 3"
    },
    "language_info": {
      "name": "python"
    }
  },
  "cells": [
    {
      "cell_type": "code",
      "source": [
        "import numpy as np\n",
        "from sklearn.datasets import load_iris\n",
        "from sklearn.model_selection import train_test_split\n",
        "from sklearn.preprocessing import StandardScaler\n",
        "from sklearn.metrics import accuracy_score\n",
        "\n",
        "class LDA:\n",
        "    def fit(self, X, y):\n",
        "        self.classes = np.unique(y)\n",
        "        self.class_means = [np.mean(X[y == c], axis=0) for c in self.classes]\n",
        "        self.priors = [np.mean(y == c) for c in self.classes]\n",
        "        self.shared_covariance = np.cov(X.T)\n",
        "\n",
        "    def predict(self, X):\n",
        "        discriminants = []\n",
        "        for i, c in enumerate(self.classes):\n",
        "            mean_diff = X - self.class_means[i]\n",
        "            cov_inv = np.linalg.inv(self.shared_covariance)\n",
        "            w = np.dot(cov_inv, (self.class_means[i] - np.mean(self.class_means, axis=0)))\n",
        "            b = -0.5 * np.dot(np.dot(self.class_means[i].T, cov_inv), self.class_means[i]) + np.log(self.priors[i])\n",
        "            discriminant = np.dot(mean_diff, w) + b\n",
        "            discriminants.append(discriminant)\n",
        "        return self.classes[np.argmax(discriminants, axis=0)]\n",
        "\n",
        "\n",
        "class QDA:\n",
        "    def fit(self, X, y):\n",
        "        self.classes = np.unique(y)\n",
        "        self.means = [np.mean(X[y == c], axis=0) for c in self.classes]\n",
        "        self.covariance_matrices = [np.cov(X[y == c].T) for c in self.classes]\n",
        "        self.priors = [np.mean(y == c) for c in self.classes]\n",
        "\n",
        "    def predict(self, X):\n",
        "        discriminants = []\n",
        "        for i, c in enumerate(self.classes):\n",
        "            mean_diff = X - self.means[i]\n",
        "            cov_inv = np.linalg.inv(self.covariance_matrices[i])\n",
        "            term1 = -0.5 * np.sum(np.dot(mean_diff, cov_inv) * mean_diff, axis=1)\n",
        "            term2 = -0.5 * np.log(np.linalg.det(self.covariance_matrices[i]))\n",
        "            term3 = np.log(self.priors[i])\n",
        "            discriminant = term1 + term2 + term3\n",
        "            discriminants.append(discriminant)\n",
        "        return self.classes[np.argmax(discriminants, axis=0)]\n",
        "\n",
        "# Carregar conjunto de dados Iris\n",
        "iris = load_iris()\n",
        "X, y = iris.data, iris.target\n",
        "\n",
        "# Dividir os dados em conjunto de treino e teste\n",
        "X_train, X_test, y_train, y_test = train_test_split(X, y, test_size=0.2, random_state=42)\n",
        "\n",
        "# Normalizar os dados\n",
        "scaler = StandardScaler()\n",
        "X_train_scaled = scaler.fit_transform(X_train)\n",
        "X_test_scaled = scaler.transform(X_test)\n",
        "\n",
        "# Instanciando e treinado os classificadores LDA\n",
        "lda = LDA()\n",
        "lda.fit(X_train_scaled, y_train)\n",
        "# Instanciando e treinado os classificadores LDA\n",
        "qda = QDA()\n",
        "qda.fit(X_train_scaled, y_train)\n",
        "\n",
        "# Fazer a predição para o LDA\n",
        "y_train_pred_lda = lda.predict(X_train_scaled)\n",
        "y_test_pred_lda = lda.predict(X_test_scaled)\n",
        "# Fazer a predição para o QDA\n",
        "y_train_pred_qda = qda.predict(X_train_scaled)\n",
        "y_test_pred_qda = qda.predict(X_test_scaled)\n",
        "\n",
        "# Calcular a acurácia LDA\n",
        "accuracy_train_lda = accuracy_score(y_train, y_train_pred_lda)\n",
        "accuracy_test_lda = accuracy_score(y_test, y_test_pred_lda)\n",
        "# Calcular a acurácia QDA\n",
        "accuracy_train_qda = accuracy_score(y_train, y_train_pred_qda)\n",
        "accuracy_test_qda = accuracy_score(y_test, y_test_pred_qda)\n",
        "\n",
        "print(\"Acurácia no conjunto de treino (LDA): {:.2f}%\".format(accuracy_train_lda * 100))\n",
        "print(\"Acurácia no conjunto de teste (LDA): {:.2f}%\".format(accuracy_test_lda * 100))\n",
        "print(\"Acurácia no conjunto de treino (QDA): {:.2f}%\".format(accuracy_train_qda * 100))\n",
        "print(\"Acurácia no conjunto de teste (QDA): {:.2f}%\".format(accuracy_test_qda * 100))\n"
      ],
      "metadata": {
        "colab": {
          "base_uri": "https://localhost:8080/"
        },
        "id": "Prv7c2NyJOJ7",
        "outputId": "ce6a550e-fd87-4652-af44-7cc433f5fbc7"
      },
      "execution_count": null,
      "outputs": [
        {
          "output_type": "stream",
          "name": "stdout",
          "text": [
            "Acurácia no conjunto de treino (LDA): 69.17%\n",
            "Acurácia no conjunto de teste (LDA): 70.00%\n",
            "Acurácia no conjunto de treino (QDA): 97.50%\n",
            "Acurácia no conjunto de teste (QDA): 96.67%\n"
          ]
        }
      ]
    }
  ]
}